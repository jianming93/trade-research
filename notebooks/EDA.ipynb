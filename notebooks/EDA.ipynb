{
 "cells": [
  {
   "cell_type": "code",
   "execution_count": 1,
   "id": "801c497a",
   "metadata": {},
   "outputs": [],
   "source": [
    "import os\n",
    "import sys\n",
    "sys.path.append(\"..\")\n",
    "import pytz\n",
    "import datetime\n",
    "import numpy as np\n",
    "import pandas as pd\n",
    "from tqdm import tqdm\n",
    "from matplotlib import pyplot as plt\n",
    "%matplotlib inline\n",
    "import seaborn as sns\n",
    "import ipywidgets as widgets\n",
    "from IPython.display import display, clear_output\n",
    "from tqdm import tqdm\n",
    "from scipy.stats import median_abs_deviation\n",
    "\n",
    "from src.universe import Universe"
   ]
  },
  {
   "cell_type": "code",
   "execution_count": 2,
   "id": "28468d98",
   "metadata": {},
   "outputs": [],
   "source": [
    "DATA_FOLDER = \"../data/parquet/1min\"\n",
    "ACCEPTED_CURRENCY_BASE = [\"USDT\", \"USDC\"]\n",
    "MAD_THRESHOLD = 3 # commonly 3, 2.5, 2 where 3 is conservation and 2 is poorly conservatiove"
   ]
  },
  {
   "cell_type": "markdown",
   "id": "6cb6929a",
   "metadata": {},
   "source": [
    "Load all data"
   ]
  },
  {
   "cell_type": "code",
   "execution_count": 3,
   "id": "27b2b5f0",
   "metadata": {},
   "outputs": [
    {
     "name": "stderr",
     "output_type": "stream",
     "text": [
      "Loading parquet data for ZRX-ETH: 100%|████████████████████████████████████████████| 1254/1254 [34:02<00:00,  1.63s/it]\n"
     ]
    }
   ],
   "source": [
    "# kc_universe = Universe(\n",
    "#     name=\"Kucoin-1min\",\n",
    "#     data_source_type=\"parquet\",\n",
    "#     data_source_url=DATA_FOLDER,\n",
    "#     start_datetime=\"2018-01-01 00:00:00\",\n",
    "#     end_datetime=\"2022-06-19 00:00:00\",\n",
    "#     raw_interval=\"1min\",\n",
    "#     resample_interval=\"30min\",\n",
    "#     datetime_format=\"datetime\"\n",
    "# )\n",
    "# kc_universe.load()"
   ]
  },
  {
   "cell_type": "code",
   "execution_count": 4,
   "id": "63d89573",
   "metadata": {},
   "outputs": [],
   "source": [
    "# merged = pd.DataFrame()\n",
    "# for symbol in tqdm(kc_universe.data):\n",
    "#     current_symbol_data = kc_universe.data[symbol]\n",
    "#     rearragned_columns = [\"symbol\", \"o\", \"h\", \"l\", \"c\", \"v\", \"log_o\", \"log_h\", \"log_l\", \"log_c\", \"p\", \"r\", \"d\", \"s\", \"log_r\"]\n",
    "#     current_symbol_data[\"symbol\"] = symbol\n",
    "#     current_symbol_data = current_symbol_data[rearragned_columns]\n",
    "#     merged = pd.concat([merged, current_symbol_data])\n",
    "# merged.to_parquet(\"../data/parquet/aggregate/universe_30min_2018-01-01_2022-05-31.parquet\")"
   ]
  },
  {
   "cell_type": "code",
   "execution_count": 3,
   "id": "b0507a93",
   "metadata": {
    "scrolled": true
   },
   "outputs": [],
   "source": [
    "kc_parquet = pd.read_parquet(\"../data/parquet/aggregate/universe_30min_2018-01-01_2022-05-31.parquet\")"
   ]
  },
  {
   "cell_type": "code",
   "execution_count": 4,
   "id": "95c65993",
   "metadata": {},
   "outputs": [],
   "source": [
    "summary_stats = kc_parquet.groupby(\"symbol\").describe()\n",
    "# First filter by counts of volume data points to ensure sufficient data points\n",
    "summary_stats = summary_stats.loc[summary_stats[\"v\"][\"count\"] >= summary_stats[\"v\"][\"count\"].median()]\n",
    "# Next filter by median returns * volume to ensure symbol has sufficient volume which correlates to liquidity to some extent\n",
    "# and volatility which can be seen by the returns\n",
    "summary_stats = summary_stats.loc[summary_stats[\"r\"][\"50%\"] * summary_stats[\"v\"][\"50%\"] >= (summary_stats[\"r\"][\"50%\"] * summary_stats[\"v\"][\"50%\"]).median()]"
   ]
  },
  {
   "cell_type": "code",
   "execution_count": 5,
   "id": "93bb4d3d",
   "metadata": {},
   "outputs": [],
   "source": [
    "kc_parquet_filtered = kc_parquet.loc[kc_parquet.symbol.isin(summary_stats.index.tolist())]"
   ]
  },
  {
   "cell_type": "code",
   "execution_count": 6,
   "id": "df9d9f2a",
   "metadata": {
    "scrolled": true
   },
   "outputs": [
    {
     "name": "stderr",
     "output_type": "stream",
     "text": [
      "100%|████████████████████████████████████████████████████████████████████████████████| 616/616 [05:10<00:00,  1.99it/s]\n"
     ]
    }
   ],
   "source": [
    "kc_parquet_filtered_separated = {}\n",
    "for symbol in tqdm(kc_parquet_filtered.symbol.unique()):\n",
    "    if symbol.split(\"-\")[-1] in ACCEPTED_CURRENCY_BASE:\n",
    "        symbol_df = kc_parquet_filtered.loc[kc_parquet_filtered.symbol == symbol]\n",
    "        symbol_df = symbol_df.drop(columns=[\"symbol\"])\n",
    "        symbol_df.sort_index(inplace=True)\n",
    "        kc_parquet_filtered_separated[symbol] = symbol_df"
   ]
  },
  {
   "cell_type": "code",
   "execution_count": 7,
   "id": "28186001",
   "metadata": {},
   "outputs": [
    {
     "data": {
      "application/vnd.jupyter.widget-view+json": {
       "model_id": "26229792d80e4dbb972895d46b45e953",
       "version_major": 2,
       "version_minor": 0
      },
      "text/plain": [
       "HBox(children=(Dropdown(description='Symbol 1', options=('1INCH-USDT', 'AAVE-USDT', 'ABBC-USDT', 'ACE-USDT', '…"
      ]
     },
     "metadata": {},
     "output_type": "display_data"
    },
    {
     "data": {
      "application/vnd.jupyter.widget-view+json": {
       "model_id": "e4652435c1e94f34a4aef911d6020cd2",
       "version_major": 2,
       "version_minor": 0
      },
      "text/plain": [
       "HBox(children=(Text(value='2018-01-01 00:00:00', description='Select start datetime', placeholder='Start datet…"
      ]
     },
     "metadata": {},
     "output_type": "display_data"
    },
    {
     "data": {
      "application/vnd.jupyter.widget-view+json": {
       "model_id": "b6d7669d7d8c472ab0d7c3605bb2b287",
       "version_major": 2,
       "version_minor": 0
      },
      "text/plain": [
       "Button(description='Plot', style=ButtonStyle())"
      ]
     },
     "metadata": {},
     "output_type": "display_data"
    },
    {
     "data": {
      "application/vnd.jupyter.widget-view+json": {
       "model_id": "d1a1740bbf8243a994257d3744af2ac0",
       "version_major": 2,
       "version_minor": 0
      },
      "text/plain": [
       "Output()"
      ]
     },
     "metadata": {},
     "output_type": "display_data"
    }
   ],
   "source": [
    "# Symbol selectors\n",
    "symbol_1_dropdown = widgets.Dropdown(\n",
    "    options=list(kc_parquet_filtered_separated.keys()),\n",
    "    value=None,\n",
    "    description='Symbol 1',\n",
    ")\n",
    "symbol_2_dropdown = widgets.Dropdown(\n",
    "    options=list(kc_parquet_filtered_separated.keys()),\n",
    "    value=None,\n",
    "    description='Symbol 2',\n",
    ")\n",
    "symbols_dropdowns = widgets.HBox([symbol_1_dropdown, symbol_2_dropdown])\n",
    "# Datetime selectors\n",
    "start_datetime_string = widgets.Text(\n",
    "    description='Select start datetime',\n",
    "    placeholder=\"Start datetime\",\n",
    "    value=\"2018-01-01 00:00:00\",\n",
    "    disabled=False\n",
    ")\n",
    "end_datetime_string = widgets.Text(\n",
    "    description='Select end datetime',\n",
    "    placeholder=\"End datetime\",\n",
    "    value=datetime.datetime.strftime(datetime.datetime.today(), \"%Y-%m-%d %H:%M:%S\"),\n",
    "    disabled=False\n",
    ")\n",
    "datetime_strings = widgets.HBox([start_datetime_string, end_datetime_string])\n",
    "# Plot buttons\n",
    "plot_scatterplot_button = widgets.Button(description=\"Plot\")\n",
    "plot_output = widgets.Output()\n",
    "\n",
    "def on_click(click):\n",
    "    # Extract symbol names\n",
    "    symbol_1 = symbol_1_dropdown.value\n",
    "    symbol_2 = symbol_2_dropdown.value\n",
    "    # Filter log return plots\n",
    "    returns_1 = kc_parquet_filtered_separated[symbol_1][\"log_r\"]\n",
    "    returns_2 = kc_parquet_filtered_separated[symbol_2][\"log_r\"]\n",
    "    returns_1 = returns_1.iloc[1:]\n",
    "    returns_2 = returns_2.iloc[1:]\n",
    "    # Combine log returns columns\n",
    "    joined_returns = pd.concat([returns_1, returns_2], axis=1)\n",
    "    # Drop any columns that have na due to missing information from either symbol for specific date\n",
    "    joined_returns.dropna(inplace=True)\n",
    "    # Rename columns\n",
    "    joined_returns.columns = [symbol_1, symbol_2]\n",
    "    # Filter data by inidcated start and end datetime\n",
    "    joined_returns = joined_returns.loc[\n",
    "        (joined_returns.index >= datetime.datetime.strptime(start_datetime_string.value, \"%Y-%m-%d %H:%M:%S\"))\n",
    "    ]\n",
    "    joined_returns = joined_returns.loc[\n",
    "        (joined_returns.index <= datetime.datetime.strptime(end_datetime_string.value, \"%Y-%m-%d %H:%M:%S\"))\n",
    "    ]\n",
    "    # Remove anomalies via MAD statistic\n",
    "    symbol_1_mad = median_abs_deviation(joined_returns[symbol_1])\n",
    "    symbol_2_mad = median_abs_deviation(joined_returns[symbol_2])\n",
    "    symbol_1_median = joined_returns[symbol_1].median()\n",
    "    symbol_2_median = joined_returns[symbol_2].median()\n",
    "\n",
    "    joined_returns[symbol_1].loc[joined_returns[symbol_1] < symbol_1_median - symbol_1_mad * MAD_THRESHOLD] = None\n",
    "    joined_returns[symbol_1].loc[joined_returns[symbol_1] > symbol_1_median + symbol_1_mad * MAD_THRESHOLD] = None\n",
    "    joined_returns[symbol_2].loc[joined_returns[symbol_2] < symbol_2_median - symbol_2_mad * MAD_THRESHOLD] = None\n",
    "    joined_returns[symbol_2].loc[joined_returns[symbol_2] > symbol_2_median + symbol_2_mad * MAD_THRESHOLD] = None\n",
    "    # Anomalies will be assigned None and thus needs to be dropped\n",
    "    joined_returns.dropna(inplace=True)\n",
    "    joined_returns[\"ratio\"] = joined_returns[symbol_2] / joined_returns[symbol_1]\n",
    "    with plot_output:\n",
    "        fig, ax = plt.subplots(2, 1, figsize=(20, 20))\n",
    "        plot_output.clear_output()\n",
    "        sns.scatterplot(x=joined_returns[symbol_1], y=joined_returns[symbol_2], ax=ax[0])\n",
    "        ax[0].set_title(\"Log returns plot\")\n",
    "        sns.scatterplot(x=range(len(joined_returns)), y=joined_returns[\"ratio\"], ax=ax[1])\n",
    "        ax[1].set_title(\"Log returns ratio plot\")\n",
    "        plt.show()\n",
    "\n",
    "plot_scatterplot_button.on_click(on_click)\n",
    "display(symbols_dropdowns, datetime_strings, plot_scatterplot_button)\n",
    "display(plot_output)"
   ]
  },
  {
   "cell_type": "markdown",
   "id": "1e34bca3",
   "metadata": {},
   "source": [
    "# Archived"
   ]
  },
  {
   "cell_type": "code",
   "execution_count": 11,
   "id": "ba439715",
   "metadata": {
    "scrolled": false
   },
   "outputs": [
    {
     "data": {
      "application/vnd.jupyter.widget-view+json": {
       "model_id": "4a2b7fd2bb0042278cc49b5256209e97",
       "version_major": 2,
       "version_minor": 0
      },
      "text/plain": [
       "HBox(children=(Dropdown(description='Symbol 1', options=('1INCH-USDT', 'AAVE-KCS', 'AAVE-USDT', 'ABBC-USDT', '…"
      ]
     },
     "metadata": {},
     "output_type": "display_data"
    },
    {
     "data": {
      "application/vnd.jupyter.widget-view+json": {
       "model_id": "dcde4053fc834f738aae27bf536de6fb",
       "version_major": 2,
       "version_minor": 0
      },
      "text/plain": [
       "HBox(children=(Text(value='', description='Select start datetime', placeholder='Start datetime'), Text(value='…"
      ]
     },
     "metadata": {},
     "output_type": "display_data"
    },
    {
     "data": {
      "application/vnd.jupyter.widget-view+json": {
       "model_id": "7f883936c6d84e3fa3c5455b09ea90af",
       "version_major": 2,
       "version_minor": 0
      },
      "text/plain": [
       "Button(description='Plot', style=ButtonStyle())"
      ]
     },
     "metadata": {},
     "output_type": "display_data"
    },
    {
     "data": {
      "application/vnd.jupyter.widget-view+json": {
       "model_id": "69eeb72b92fb46a2ad005d8cee2f31fc",
       "version_major": 2,
       "version_minor": 0
      },
      "text/plain": [
       "Output()"
      ]
     },
     "metadata": {},
     "output_type": "display_data"
    }
   ],
   "source": [
    "# Symbol selectors\n",
    "symbol_1_dropdown = widgets.Dropdown(\n",
    "    options=list(kc_parquet_filtered_separated.keys()),\n",
    "    value=None,\n",
    "    description='Symbol 1',\n",
    ")\n",
    "symbol_2_dropdown = widgets.Dropdown(\n",
    "    options=list(kc_parquet_filtered_separated.keys()),\n",
    "    value=None,\n",
    "    description='Symbol 2',\n",
    ")\n",
    "symbols_dropdowns = widgets.HBox([symbol_1_dropdown, symbol_2_dropdown])\n",
    "# Datetime selectors\n",
    "start_datetime_string = widgets.DatetimePicker(\n",
    "    description='Input start datetime',\n",
    "a    value=None,\n",
    "    disabled=False\n",
    ")\n",
    "end_datetime_string = widgets.DatetimePicker(\n",
    "    description='Input end datetime',\n",
    "    value=None,\n",
    "    disabled=False\n",
    ")\n",
    "datetime_strings = widgets.HBox([start_datetime_string, end_datetime_string])\n",
    "# Plot buttons\n",
    "plot_scatterplot_button = widgets.Button(description=\"Plot\")\n",
    "plot_output = widgets.Output()\n",
    "\n",
    "symbol_1 = symbol_1_dropdown.value\n",
    "symbol_2 = symbol_2_dropdown.value\n",
    "returns_1 = kc_parquet_filtered_separated[symbol_1][\"log_r\"]\n",
    "returns_2 = kc_parquet_filtered_separated[symbol_2][\"log_r\"]\n",
    "returns_1 = returns_1.iloc[1:]\n",
    "returns_2 = returns_2.iloc[1:]\n",
    "joined_returns = pd.concat([returns_1, returns_2], axis=1)\n",
    "joined_returns.dropna(inplace=True)\n",
    "joined_returns.columns = [symbol_1, symbol_2]\n",
    "plt.figure(figsize=(12, 10))\n",
    "plt.title(\"Log Returns Plot\")\n",
    "plot_output.clear_output()\n",
    "sns.scatterplot(x=joined_returns[symbol_1], y=joined_returns[symbol_2])\n",
    "plt.show()"
   ]
  }
 ],
 "metadata": {
  "interpreter": {
   "hash": "263dcb3d533090979fe8adae17240ff2b8aa19c0db2494f7a0d718251913fe48"
  },
  "kernelspec": {
   "display_name": "Python 3 (ipykernel)",
   "language": "python",
   "name": "python3"
  },
  "language_info": {
   "codemirror_mode": {
    "name": "ipython",
    "version": 3
   },
   "file_extension": ".py",
   "mimetype": "text/x-python",
   "name": "python",
   "nbconvert_exporter": "python",
   "pygments_lexer": "ipython3",
   "version": "3.8.13"
  }
 },
 "nbformat": 4,
 "nbformat_minor": 5
}
